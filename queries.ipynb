{
 "cells": [
  {
   "cell_type": "code",
   "execution_count": 3,
   "metadata": {},
   "outputs": [],
   "source": [
    "import pandas as pd\n",
    "from datetime import datetime\n",
    "\n",
    "# Load the datasets\n",
    "transactions_df = pd.read_csv('./Raw_Data/TRANSACTION_TAKEHOME.csv')\n",
    "users_df = pd.read_csv('./Raw_Data/USER_TAKEHOME.csv')\n",
    "products_df = pd.read_csv('./Raw_Data/PRODUCTS_TAKEHOME.csv')"
   ]
  },
  {
   "cell_type": "markdown",
   "metadata": {},
   "source": [
    "## Close ended Questions"
   ]
  },
  {
   "cell_type": "markdown",
   "metadata": {},
   "source": [
    " 1. What are the top 5 brands by receipts scanned among users 21 and over?\n",
    "\n",
    " - SQL Query:\n",
    "\n",
    "```sql\n",
    "-- Find the top 5 brands by receipts scanned among users 21 and over\n",
    "SELECT\n",
    "    p.brand,                      \n",
    "    COUNT(t.receipt_id) AS receipts_scanned   \n",
    "FROM\n",
    "    Transactions t                \n",
    "JOIN\n",
    "    Users u                      \n",
    "ON \n",
    "    t.user_id = u.id              -- Joining condition based on user_id\n",
    "JOIN \n",
    "    Products p                    \n",
    "ON \n",
    "    t.barcode = p.barcode          -- Joining condition based on barcode\n",
    "WHERE\n",
    "    DATEDIFF(CURDATE(), u.birth_date) / 365 >= 21  -- Filter users 21 or older\n",
    "GROUP BY\n",
    "    p.brand                        -- Grouping by product brand\n",
    "ORDER BY \n",
    "    receipts_scanned DESC          -- Sorting by number of receipts scanned in descending order\n",
    "LIMIT 5;                           -- Limiting the result to top 5 brands\n",
    "\n"
   ]
  },
  {
   "cell_type": "code",
   "execution_count": 7,
   "metadata": {},
   "outputs": [
    {
     "name": "stdout",
     "output_type": "stream",
     "text": [
      "BRAND\n",
      "COCA-COLA                    628\n",
      "ANNIE'S HOMEGROWN GROCERY    576\n",
      "DOVE                         558\n",
      "BAREFOOT                     552\n",
      "ORIBE                        504\n",
      "Name: RECEIPT_ID, dtype: int64\n"
     ]
    }
   ],
   "source": [
    "# Convert BIRTH_DATE to datetime, and ensure it's timezone-naive\n",
    "users_df['BIRTH_DATE'] = pd.to_datetime(users_df['BIRTH_DATE'], errors='coerce').dt.tz_localize(None)\n",
    "\n",
    "# Get the current date as timezone-naive\n",
    "current_date = datetime.now()\n",
    "\n",
    "# Calculate the age of the users and filter for those 21 or older\n",
    "users_df['AGE'] = (current_date - users_df['BIRTH_DATE']).dt.days // 365\n",
    "users_21_plus = users_df[users_df['AGE'] >= 21]\n",
    "\n",
    "# Merge transactions with users who are 21 or older\n",
    "merged_df = pd.merge(transactions_df, users_21_plus, left_on='USER_ID', right_on='ID', how='inner')\n",
    "\n",
    "# Merge the result with the products dataframe on the barcode\n",
    "final_df = pd.merge(merged_df, products_df, left_on='BARCODE', right_on='BARCODE', how='inner')\n",
    "\n",
    "# Group by brand and count the number of receipts scanned\n",
    "top_brands = final_df.groupby('BRAND')['RECEIPT_ID'].count().sort_values(ascending=False).head(5)\n",
    "\n",
    "# Display the top 5 brands by number of receipts scanned\n",
    "print(top_brands)\n"
   ]
  },
  {
   "cell_type": "markdown",
   "metadata": {},
   "source": [
    "2. What is the percentage of sales in the Health & Wellness category by generation?\n",
    "\n",
    "- SQL Query:\n",
    "\n",
    "``` sql\n",
    "-- Define a Common Table Expression (CTE) to categorize users into generations based on their birth date\n",
    "WITH UserAge AS (\n",
    "    SELECT \n",
    "        u.id, \n",
    "        CASE \n",
    "            WHEN DATEDIFF(CURDATE(), u.birth_date) / 365 < 27 THEN 'Gen Z'\n",
    "            WHEN DATEDIFF(CURDATE(), u.birth_date) / 365 BETWEEN 27 AND 42 THEN 'Millennials'\n",
    "            WHEN DATEDIFF(CURDATE(), u.birth_date) / 365 BETWEEN 43 AND 58 THEN 'Gen X'\n",
    "            ELSE 'Boomers'\n",
    "        END AS generation\n",
    "    \n",
    "    FROM \n",
    "        Users u\n",
    ")\n",
    "-- Query to calculate the percentage of sales in the 'Health & Wellness' category for each generation\n",
    "SELECT \n",
    "    ua.generation, \n",
    "    SUM(CASE WHEN p.category_1 = 'Health & Wellness' THEN t.sale ELSE 0 END) / SUM(t.sale) * 100 AS health_sales_percentage -- Calculate the percentage of sales in the 'Health & Wellness' category\n",
    "\n",
    "FROM \n",
    "    Transactions t\n",
    "JOIN \n",
    "    UserAge ua ON t.user_id = ua.id -- Join the Transactions table with the UserAge CTE to get user generation\n",
    "JOIN \n",
    "    Products p ON t.barcode = p.barcode -- Join with Products to get product categories\n",
    "\n",
    "GROUP BY \n",
    "    ua.generation; -- Group the results by generation to get the percentage for each group\n",
    "\n"
   ]
  },
  {
   "cell_type": "code",
   "execution_count": 13,
   "metadata": {},
   "outputs": [
    {
     "name": "stdout",
     "output_type": "stream",
     "text": [
      "GENERATION\n",
      "Boomers        57.252918\n",
      "Gen X          57.248801\n",
      "Millennials    57.278642\n",
      "Name: FINAL_SALE, dtype: float64\n"
     ]
    }
   ],
   "source": [
    "# Step 1: Convert BIRTH_DATE to datetime format and ensure it's timezone-naive\n",
    "users_df['BIRTH_DATE'] = pd.to_datetime(users_df['BIRTH_DATE'], errors='coerce').dt.tz_localize(None)\n",
    "\n",
    "# Step 2: Convert FINAL_SALE to numeric, handling errors\n",
    "transactions_df['FINAL_SALE'] = pd.to_numeric(transactions_df['FINAL_SALE'], errors='coerce')\n",
    "\n",
    "# Step 3: Get the current date\n",
    "current_date = datetime.now()\n",
    "\n",
    "# Step 4: Calculate the age of the users and categorize them into generations\n",
    "def categorize_generation(birth_date):\n",
    "    if pd.isnull(birth_date):\n",
    "        return None\n",
    "    age = (current_date - birth_date).days // 365\n",
    "    if age < 27:\n",
    "        return 'Gen Z'\n",
    "    elif 27 <= age <= 42:\n",
    "        return 'Millennials'\n",
    "    elif 43 <= age <= 58:\n",
    "        return 'Gen X'\n",
    "    else:\n",
    "        return 'Boomers'\n",
    "\n",
    "# Apply the generation categorization\n",
    "users_df['GENERATION'] = users_df['BIRTH_DATE'].apply(categorize_generation)\n",
    "\n",
    "# Step 5: Merge users with transactions to link users and their generations with transactions\n",
    "merged_df = pd.merge(transactions_df, users_df[['ID', 'GENERATION']], left_on='USER_ID', right_on='ID', how='inner')\n",
    "\n",
    "# Step 6: Merge the result with the products dataframe to get product categories\n",
    "final_df = pd.merge(merged_df, products_df[['BARCODE', 'CATEGORY_1']], left_on='BARCODE', right_on='BARCODE', how='inner')\n",
    "\n",
    "# Step 7: Calculate the percentage of sales in 'Health & Wellness' category for each generation\n",
    "\n",
    "# Filter for the 'Health & Wellness' category and calculate sales for this category\n",
    "health_wellness_sales = final_df[final_df['CATEGORY_1'] == 'Health & Wellness'].groupby('GENERATION')['FINAL_SALE'].sum()\n",
    "\n",
    "# Calculate total sales for each generation\n",
    "total_sales_by_generation = final_df.groupby('GENERATION')['FINAL_SALE'].sum()\n",
    "\n",
    "# Step 8: Calculate the percentage of health and wellness sales for each generation\n",
    "health_sales_percentage = (health_wellness_sales / total_sales_by_generation) * 100\n",
    "\n",
    "# Display the result\n",
    "print(health_sales_percentage)\n"
   ]
  },
  {
   "cell_type": "code",
   "execution_count": 10,
   "metadata": {},
   "outputs": [
    {
     "name": "stdout",
     "output_type": "stream",
     "text": [
      "Index(['RECEIPT_ID', 'PURCHASE_DATE', 'SCAN_DATE', 'STORE_NAME', 'USER_ID',\n",
      "       'BARCODE', 'FINAL_QUANTITY', 'FINAL_SALE'],\n",
      "      dtype='object')\n"
     ]
    }
   ],
   "source": [
    "print(transactions_df.columns)"
   ]
  },
  {
   "cell_type": "markdown",
   "metadata": {},
   "source": [
    "## Open Ended Questions"
   ]
  },
  {
   "cell_type": "markdown",
   "metadata": {},
   "source": [
    "1. Who are Fetch’s power users?\n",
    "\n",
    "- SQL Query:\n",
    "\n",
    "``` sql\n",
    "\n",
    "-- Find Fetch's power users based on receipts scanned and total sales\n",
    "-- A \"power user\" is defined as a user who has scanned more than 100 receipts\n",
    "\n",
    "SELECT \n",
    "    u.id, \n",
    "    COUNT(t.receipt_id) AS total_receipts,  -- Count the number of receipts (transactions) per user\n",
    "    SUM(t.sale) AS total_sales  -- Sum up the total sales for each user\n",
    "FROM \n",
    "    Transactions t  \n",
    "JOIN \n",
    "    Users u \n",
    "ON \n",
    "    t.user_id = u.id  -- Join the Transactions and Users tables on the user ID\n",
    "GROUP BY \n",
    "    u.id  -- Group the results by user ID so we can aggregate data (receipts and sales) for each user\n",
    "HAVING \n",
    "    COUNT(t.receipt_id) > 100  -- Filter to include only users who have more than 100 receipts\n",
    "ORDER BY \n",
    "    total_sales DESC;  -- Sort the results in descending order of total sales, so the highest spending users appear first"
   ]
  },
  {
   "cell_type": "code",
   "execution_count": 19,
   "metadata": {},
   "outputs": [
    {
     "name": "stdout",
     "output_type": "stream",
     "text": [
      "Empty DataFrame\n",
      "Columns: [USER_ID, total_receipts, total_sales]\n",
      "Index: []\n"
     ]
    }
   ],
   "source": [
    "# Step 1: Convert 'FINAL_SALE' column to numeric\n",
    "# This ensures that any non-numeric values (such as text) are converted to NaN\n",
    "transactions_df['FINAL_SALE'] = pd.to_numeric(transactions_df['FINAL_SALE'], errors='coerce')\n",
    "\n",
    "# Step 2: Merge transactions with users\n",
    "merged_df = pd.merge(transactions_df, users_df, left_on='USER_ID', right_on='ID', how='inner')\n",
    "\n",
    "# Step 3: Group by 'user_id' to calculate total receipts and total sales for each user\n",
    "# - 'total_receipts' is the count of receipts (i.e., how many transactions the user has)\n",
    "# - 'total_sales' is the sum of all sales made by that user\n",
    "user_stats = merged_df.groupby('USER_ID').agg(\n",
    "    total_receipts=('RECEIPT_ID', 'count'),  # Count the number of receipts for each user\n",
    "    total_sales=('FINAL_SALE', 'sum')  # Sum up the sales for each user\n",
    ").reset_index()  # Reset the index to turn 'user_id' into a regular column\n",
    "\n",
    "# Step 4: Filter for power users with more than 100 receipts\n",
    "power_users = user_stats[user_stats['total_receipts'] > 100]\n",
    "\n",
    "# Step 5: Sort the power users by total sales in descending order\n",
    "# This helps identify the users who have spent the most in total\n",
    "power_users_sorted = power_users.sort_values(by='total_sales', ascending=False)\n",
    "\n",
    "# Display the top power users sorted by total sales\n",
    "print(power_users_sorted)"
   ]
  }
 ],
 "metadata": {
  "kernelspec": {
   "display_name": "DE",
   "language": "python",
   "name": "python3"
  },
  "language_info": {
   "codemirror_mode": {
    "name": "ipython",
    "version": 3
   },
   "file_extension": ".py",
   "mimetype": "text/x-python",
   "name": "python",
   "nbconvert_exporter": "python",
   "pygments_lexer": "ipython3",
   "version": "3.11.5"
  }
 },
 "nbformat": 4,
 "nbformat_minor": 2
}
